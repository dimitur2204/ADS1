{
 "cells": [
  {
   "cell_type": "code",
   "execution_count": 31,
   "id": "d08643aa-99fa-4d88-9c90-a0c5dca3655f",
   "metadata": {},
   "outputs": [],
   "source": [
    "def sum_coins(V):\n",
    "    coins = [1, 15, 25]\n",
    "    results = [None for _ in range(V + 1)]\n",
    "    results[0] = 1\n",
    "    for v in range(V + 1):\n",
    "        min = 99999999;\n",
    "        for coin in coins:\n",
    "            if v - coin < 0:\n",
    "                continue\n",
    "            if v - coin == 0:\n",
    "                results[v] = 1\n",
    "                continue\n",
    "            # The sum of coins minus the coin we use + the coin we use (+1)\n",
    "            if v - coin > 0:\n",
    "                if results[v-coin] < min:\n",
    "                   min = results[v-coin] \n",
    "                results[v] = min + 1\n",
    "    return results[V]"
   ]
  },
  {
   "cell_type": "code",
   "execution_count": 33,
   "id": "f0fd3198-537e-42e7-a821-fe49ba66e4d0",
   "metadata": {},
   "outputs": [
    {
     "name": "stdout",
     "output_type": "stream",
     "text": [
      "[1, 1, 2, 3, 4, 5, 6, 7, 8, 9, 10, 11, 12, 13, 14, 1, 2, 3, 4, 5, 6, 7, 8, 9, 10, 1, 2, 3, 4, 5, 2, 3, 4, 5, 6, 7, 8, 9, 10, 11, 2]\n"
     ]
    },
    {
     "data": {
      "text/plain": [
       "2"
      ]
     },
     "execution_count": 33,
     "metadata": {},
     "output_type": "execute_result"
    }
   ],
   "source": [
    "sum_coins(40)"
   ]
  }
 ],
 "metadata": {
  "kernelspec": {
   "display_name": "Python 3 (ipykernel)",
   "language": "python",
   "name": "python3"
  },
  "language_info": {
   "codemirror_mode": {
    "name": "ipython",
    "version": 3
   },
   "file_extension": ".py",
   "mimetype": "text/x-python",
   "name": "python",
   "nbconvert_exporter": "python",
   "pygments_lexer": "ipython3",
   "version": "3.12.2"
  }
 },
 "nbformat": 4,
 "nbformat_minor": 5
}
