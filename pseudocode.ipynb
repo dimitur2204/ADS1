{
 "cells": [
  {
   "cell_type": "code",
   "execution_count": 1,
   "id": "0128c5d5-ba85-4a8d-8249-25bd2c0eca4f",
   "metadata": {},
   "outputs": [
    {
     "name": "stdout",
     "output_type": "stream",
     "text": [
      "Hello world\n"
     ]
    }
   ],
   "source": [
    "print(\"Hello world\")"
   ]
  },
  {
   "cell_type": "code",
   "execution_count": 3,
   "id": "3ee2a924-c5eb-4ba3-8a31-48d992aef057",
   "metadata": {},
   "outputs": [],
   "source": [
    "L = [2, 3, 4, 5]"
   ]
  },
  {
   "cell_type": "code",
   "execution_count": 6,
   "id": "8507c0c7-e4c9-48d1-aabf-f00a046db741",
   "metadata": {},
   "outputs": [
    {
     "name": "stdout",
     "output_type": "stream",
     "text": [
      "2\n",
      "3\n",
      "4\n",
      "5\n"
     ]
    }
   ],
   "source": [
    "for i in L:\n",
    "    print(i)"
   ]
  },
  {
   "cell_type": "code",
   "execution_count": 10,
   "id": "da80eead-f290-47b6-8e5e-9be6625429b0",
   "metadata": {},
   "outputs": [
    {
     "name": "stdout",
     "output_type": "stream",
     "text": [
      "<class 'int'>\n",
      "<class 'int'>\n",
      "<class 'float'>\n",
      "<class 'str'>\n"
     ]
    }
   ],
   "source": [
    "L = [2, 4, 5.0, \"std\"]\n",
    "for i in L:\n",
    "    print(type(i))"
   ]
  },
  {
   "cell_type": "code",
   "execution_count": 12,
   "id": "7d899025-7f7b-43db-9ff4-c9c30a9896e4",
   "metadata": {},
   "outputs": [
    {
     "name": "stdout",
     "output_type": "stream",
     "text": [
      "0\n",
      "1\n",
      "2\n",
      "3\n",
      "4\n",
      "5\n",
      "6\n",
      "7\n",
      "8\n"
     ]
    }
   ],
   "source": [
    "N = 9\n",
    "for i in range(N):\n",
    "    print(i)"
   ]
  },
  {
   "cell_type": "code",
   "execution_count": 14,
   "id": "b8b1266f-4f06-4bc4-960c-d25c06899e57",
   "metadata": {},
   "outputs": [
    {
     "name": "stdout",
     "output_type": "stream",
     "text": [
      "7\n",
      "i said 7!\n",
      "5\n",
      "i said 5!\n",
      "3\n",
      "i said 3!\n"
     ]
    }
   ],
   "source": [
    "for i in range(7, 2, -2):\n",
    "    print(i)\n",
    "    print(\"i said {}!\".format(i))"
   ]
  },
  {
   "cell_type": "code",
   "execution_count": 16,
   "id": "ddb55c75-d6a2-4bef-b67f-7c839018a318",
   "metadata": {},
   "outputs": [],
   "source": [
    "a = 27\n",
    "b = 32"
   ]
  },
  {
   "cell_type": "code",
   "execution_count": 18,
   "id": "810f4025-9f8c-4b14-8ba8-4141e89752c9",
   "metadata": {},
   "outputs": [],
   "source": [
    "a,b=b,a"
   ]
  },
  {
   "cell_type": "code",
   "execution_count": 20,
   "id": "8d2f65ab-ef9e-4aa4-b4c4-ccc40d2ba847",
   "metadata": {},
   "outputs": [
    {
     "name": "stdout",
     "output_type": "stream",
     "text": [
      "a = 32 and b = 27\n"
     ]
    }
   ],
   "source": [
    "print(\"a = {} and b = {}\".format(a,b))"
   ]
  },
  {
   "cell_type": "code",
   "execution_count": 26,
   "id": "30880092-cee4-4da2-9ea7-978668625574",
   "metadata": {},
   "outputs": [
    {
     "name": "stdout",
     "output_type": "stream",
     "text": [
      "42monkey27\n"
     ]
    }
   ],
   "source": [
    "x = 42\n",
    "y = \"monkey\"\n",
    "if a > 30:\n",
    "    print(str(x) + y + str(b))"
   ]
  },
  {
   "cell_type": "markdown",
   "id": "de6e0979-437d-4121-9fcd-72054593784a",
   "metadata": {},
   "source": [
    "# A header here"
   ]
  },
  {
   "cell_type": "markdown",
   "id": "27cc8d2e-842d-4102-bf74-bd799afe5418",
   "metadata": {},
   "source": [
    "What is that markdown here **WOW**"
   ]
  },
  {
   "cell_type": "code",
   "execution_count": 30,
   "id": "36c65357-d346-494c-871e-bed3a9438d33",
   "metadata": {},
   "outputs": [
    {
     "name": "stdout",
     "output_type": "stream",
     "text": [
      "30\n",
      "33\n",
      "36\n",
      "39\n",
      "42\n"
     ]
    }
   ],
   "source": [
    "while b < x:\n",
    "    b += 3\n",
    "    print(b)"
   ]
  },
  {
   "cell_type": "markdown",
   "id": "362c6f37-bd4f-4385-95c5-5ee2090dff97",
   "metadata": {},
   "source": [
    "# Function"
   ]
  },
  {
   "cell_type": "code",
   "execution_count": 11,
   "id": "73500156-6acc-49c5-82bb-252058d6eb92",
   "metadata": {},
   "outputs": [],
   "source": [
    "def unique(array):\n",
    "    for i in range(len(array)):\n",
    "        for j in range(len(array)):\n",
    "            if i != j and array[i] == array[j]:\n",
    "                return False;\n",
    "    return True;"
   ]
  },
  {
   "cell_type": "code",
   "execution_count": 37,
   "id": "379f8d63-8b5c-4900-ac09-4e01d7117c8e",
   "metadata": {},
   "outputs": [
    {
     "name": "stdout",
     "output_type": "stream",
     "text": [
      "False\n"
     ]
    }
   ],
   "source": [
    "L = [2, 2, 4, 5, 6]\n",
    "print(unique(L));"
   ]
  },
  {
   "cell_type": "code",
   "execution_count": 39,
   "id": "dbad531b-62db-452b-bd9c-e761f432fc5f",
   "metadata": {},
   "outputs": [],
   "source": [
    "L = [2, 4, 5, 6]"
   ]
  },
  {
   "cell_type": "code",
   "execution_count": 41,
   "id": "8639b2f0-cde9-4eae-ab87-da4697f6d61e",
   "metadata": {},
   "outputs": [
    {
     "name": "stdout",
     "output_type": "stream",
     "text": [
      "True\n"
     ]
    }
   ],
   "source": [
    "print(unique(L))"
   ]
  },
  {
   "cell_type": "code",
   "execution_count": 27,
   "id": "65f2524c-b8c5-4cf9-9f21-5c55edf2b099",
   "metadata": {},
   "outputs": [],
   "source": [
    "from time import time\n",
    "import matplotlib.pyplot as plt \n",
    "def generate_id(\n",
    "def time_unique(array, unique):\n",
    "    start_time = time()\n",
    "    unique(array)\n",
    "    end_time = time()\n",
    "    return end_time - start_time"
   ]
  },
  {
   "cell_type": "code",
   "execution_count": 29,
   "id": "d2b8ca57-9e1d-425f-bdee-cbc2add99295",
   "metadata": {},
   "outputs": [],
   "source": [
    "N = 1000\n",
    "lengths = list(range(N))\n",
    "times = [0 for _ in range(N)]\n",
    "\n",
    "for arr_len in range(N):\n",
    "    array = [x for x in range(arr_len)]\n",
    "    times[arr_len] = time_unique(array, unique)"
   ]
  },
  {
   "cell_type": "code",
   "execution_count": 31,
   "id": "f13e93a5-b71e-49c1-a072-64f90f46d793",
   "metadata": {},
   "outputs": [
    {
     "data": {
      "image/png": "[encoded data removed]",
      "text/plain": [
       "<Figure size 640x480 with 1 Axes>"
      ]
     },
     "metadata": {},
     "output_type": "display_data"
    }
   ],
   "source": [
    "plt.figure()\n",
    "plt.plot(lengths, times, '.b')\n",
    "plt.show()"
   ]
  },
  {
   "cell_type": "code",
   "execution_count": 34,
   "id": "d8102d6c-b93f-4551-9151-196e696e4cf8",
   "metadata": {},
   "outputs": [],
   "source": [
    "def better_unique(array):\n",
    "    for i in range(len(array)):\n",
    "        for j in range(i+1, len(array)):\n",
    "            if array[i] == array[j]:\n",
    "                return False\n",
    "    return True"
   ]
  },
  {
   "cell_type": "code",
   "execution_count": 36,
   "id": "b512af10-9f11-4e61-bc52-9bef640fcdc9",
   "metadata": {},
   "outputs": [],
   "source": [
    "times_better = [0 for _ in range(N)]\n",
    "\n",
    "for arr_len in range(N):\n",
    "    array = [x for x in range(arr_len)]\n",
    "    times_better[arr_len] = time_unique(array, better_unique)"
   ]
  },
  {
   "cell_type": "code",
   "execution_count": 38,
   "id": "cf2f71d6-a7bf-4dc6-8838-526b124df531",
   "metadata": {},
   "outputs": [
    {
     "data": {
      "image/png": "[encoded data removed]",
      "text/plain": [
       "<Figure size 640x480 with 1 Axes>"
      ]
     },
     "metadata": {},
     "output_type": "display_data"
    }
   ],
   "source": [
    "plt.figure()\n",
    "plt.plot(lengths, times, '.b', label = \"unique\")\n",
    "plt.plot(lengths, times_better, '.b', label = \"unique_better\")\n",
    "plt.show()"
   ]
  },
  {
   "cell_type": "code",
   "execution_count": 54,
   "id": "ceec6fc2-7d6c-4d19-bb05-ae4cf55203bc",
   "metadata": {},
   "outputs": [],
   "source": [
    "class Teacher:\n",
    "    def __init__(self, name, age, experience, tenure):\n",
    "        self.name = name\n",
    "        self.age = age\n",
    "        self.experience = experience\n",
    "        self.tenure = tenure\n",
    "\n",
    "    def __str__(self):\n",
    "        string = \"{} is a teacher at VIA. They are {} years old and have {} years of experience.\".format(self.name, self.age, self.experience)\n",
    "        if self.tenure:\n",
    "            string += \" They are an associate professor.\"\n",
    "        else:\n",
    "            string += \" They are an assistant professor.\"\n",
    "        return string"
   ]
  },
  {
   "cell_type": "code",
   "execution_count": 60,
   "id": "ec4f08f2-5aca-4bad-a1c1-c79e7e7bae60",
   "metadata": {},
   "outputs": [],
   "source": [
    "FRBJ = Teacher(\"Vankata\", \"22\", \"2\", True)"
   ]
  },
  {
   "cell_type": "code",
   "execution_count": 56,
   "id": "1068e2a0-e771-4679-8585-427feab8d68b",
   "metadata": {},
   "outputs": [
    {
     "name": "stdout",
     "output_type": "stream",
     "text": [
      "Vankata is a teacher at VIA. They are 22 years old and have 2 years of experience. They are an associate professor.\n"
     ]
    }
   ],
   "source": [
    "FRBJ.print_info()"
   ]
  },
  {
   "cell_type": "code",
   "execution_count": 62,
   "id": "cda9865b-b910-436e-98ed-1413ee35bfc7",
   "metadata": {},
   "outputs": [
    {
     "name": "stdout",
     "output_type": "stream",
     "text": [
      "Vankata is a teacher at VIA. They are 22 years old and have 2 years of experience. They are an associate professor.\n"
     ]
    }
   ],
   "source": [
    "print(FRBJ)"
   ]
  },
  {
   "cell_type": "code",
   "execution_count": null,
   "id": "a9f7fe58-5de7-4175-a4a3-3e48bcfc6ba8",
   "metadata": {},
   "outputs": [],
   "source": []
  },
  {
   "cell_type": "code",
   "execution_count": null,
   "id": "058feef0-f345-4c4a-93b1-779de8c9d339",
   "metadata": {},
   "outputs": [],
   "source": []
  }
 ],
 "metadata": {
  "kernelspec": {
   "display_name": "Python 3 (ipykernel)",
   "language": "python",
   "name": "python3"
  },
  "language_info": {
   "codemirror_mode": {
    "name": "ipython",
    "version": 3
   },
   "file_extension": ".py",
   "mimetype": "text/x-python",
   "name": "python",
   "nbconvert_exporter": "python",
   "pygments_lexer": "ipython3",
   "version": "3.12.2"
  }
 },
 "nbformat": 4,
 "nbformat_minor": 5
}
