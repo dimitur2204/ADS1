{
 "cells": [
  {
   "cell_type": "markdown",
   "id": "f539d617-8096-4c4d-ac69-50d1ef358894",
   "metadata": {},
   "source": "# Exercise 1"
  },
  {
   "cell_type": "markdown",
   "id": "277dc5ed-85e3-4627-86d4-69cb8efbdd0a",
   "metadata": {},
   "source": [
    "## isPrime in pseudocode"
   ]
  },
  {
   "cell_type": "raw",
   "id": "05aaf13b-9881-40bf-b131-1d4cea662bc2",
   "metadata": {
    "jp-MarkdownHeadingCollapsed": true
   },
   "source": [
    "isprime(number)\n",
    "    if number < 2\n",
    "        return false\n",
    "    for i from 2 to sqrt(number)\n",
    "        if number % 2 == 0\n",
    "            return false\n",
    "    return true"
   ]
  },
  {
   "cell_type": "markdown",
   "id": "00e94553-ed14-409f-a870-42bacf383fdc",
   "metadata": {},
   "source": "## isPrime python"
  },
  {
   "cell_type": "code",
   "id": "bde5bbcf-5e84-4b3e-874b-88715ebbfff6",
   "metadata": {
    "jupyter": {
     "is_executing": true
    }
   },
   "source": [
    "from math import sqrt\n",
    "\n",
    "def isPrime(number):\n",
    "    if number < 2:\n",
    "        return False\n",
    "    for i in range(2, int(sqrt(number))):\n",
    "        if number % 2 == 0:\n",
    "            return False\n",
    "    return True"
   ],
   "outputs": [],
   "execution_count": null
  },
  {
   "cell_type": "code",
   "execution_count": 180,
   "id": "9fe4434f-020a-45d8-84dd-d736afa90cf3",
   "metadata": {},
   "outputs": [
    {
     "data": {
      "text/plain": [
       "True"
      ]
     },
     "execution_count": 180,
     "metadata": {},
     "output_type": "execute_result"
    }
   ],
   "source": [
    "isPrime(2)"
   ]
  },
  {
   "cell_type": "markdown",
   "id": "cef69557-76b5-4944-9c23-343865e01a35",
   "metadata": {},
   "source": [
    "# Exercise 2"
   ]
  },
  {
   "cell_type": "code",
   "execution_count": 27,
   "id": "a91fdc8f-874d-4d92-9d83-339a2eda57e1",
   "metadata": {},
   "outputs": [],
   "source": [
    "def is_multiple(n, m):\n",
    "    if n % m == 0:\n",
    "        return True\n",
    "    return False"
   ]
  },
  {
   "cell_type": "code",
   "execution_count": 43,
   "id": "1050c978-829b-495a-94d6-45b7300e253c",
   "metadata": {},
   "outputs": [],
   "source": [
    "def minmax(array):\n",
    "    min = array[0]\n",
    "    max = array[0]\n",
    "    for el in array:\n",
    "        if el < min:\n",
    "            min = el\n",
    "        elif el > max:\n",
    "            max = el\n",
    "    return min,max"
   ]
  },
  {
   "cell_type": "code",
   "execution_count": 45,
   "id": "a377b3a7-796d-4f3f-a3f7-c11de1be7b68",
   "metadata": {},
   "outputs": [
    {
     "data": {
      "text/plain": [
       "(-3, 199)"
      ]
     },
     "execution_count": 45,
     "metadata": {},
     "output_type": "execute_result"
    }
   ],
   "source": [
    "arr = [1, 2, 199, -3]\n",
    "minmax(arr)"
   ]
  },
  {
   "cell_type": "markdown",
   "id": "c53175b5-ab63-45d0-acb4-4ad7f23ad148",
   "metadata": {},
   "source": [
    "# Exercise 3"
   ]
  },
  {
   "cell_type": "code",
   "execution_count": 67,
   "id": "08e86499-0809-42ed-8270-06df33510c20",
   "metadata": {},
   "outputs": [
    {
     "name": "stdout",
     "output_type": "stream",
     "text": [
      "[1, 2, 4, 8, 16, 32, 64, 128, 256]\n"
     ]
    }
   ],
   "source": [
    "listCompSyn = [2**i for i in range(9)]\n",
    "print(listCompSyn)"
   ]
  },
  {
   "cell_type": "markdown",
   "id": "db2356ac-3c9e-426a-a576-63727b43e705",
   "metadata": {},
   "source": [
    "# Exercise 4"
   ]
  },
  {
   "cell_type": "code",
   "execution_count": 88,
   "id": "fe82145b-5ce8-4f27-92f6-7abda010cedf",
   "metadata": {},
   "outputs": [],
   "source": [
    "def scale(arr, factor):\n",
    "    return [factor*arr[i] for i in range(len(arr))]\n"
   ]
  },
  {
   "cell_type": "code",
   "execution_count": 96,
   "id": "8242ebc4-1f4f-4d28-afc5-726427051ae4",
   "metadata": {},
   "outputs": [
    {
     "name": "stdout",
     "output_type": "stream",
     "text": [
      "[1, 2, 5] [3, 6, 15]\n"
     ]
    }
   ],
   "source": [
    "exArr = [1, 2, 5];\n",
    "scaledArr = scale(exArr, 3)\n",
    "print(exArr, scaledArr)"
   ]
  },
  {
   "metadata": {
    "jupyter": {
     "is_executing": true
    }
   },
   "cell_type": "code",
   "source": [
    "\n",
    "def fizz_buzz(n):\n",
    "    for i in range(1, n + 1):\n",
    "        a = str(i)\n",
    "        if i % 3 == 0:\n",
    "            a += \"Fizz\"\n",
    "        if i % 5 == 0:\n",
    "            a += \"Buzz\"\n",
    "        print(a)"
   ],
   "id": "5e4e199b-199d-46ec-962e-48863124e6cb",
   "outputs": [],
   "execution_count": null
  },
  {
   "cell_type": "markdown",
   "id": "58f6d4de-7ab5-490a-8905-eaaed2a76006",
   "metadata": {},
   "source": [
    "# Exercise 5"
   ]
  },
  {
   "cell_type": "code",
   "execution_count": 198,
   "id": "ff4f39d5-e08f-4bc6-8a9c-a3476efbac5a",
   "metadata": {},
   "outputs": [
    {
     "name": "stdout",
     "output_type": "stream",
     "text": [
      "1\n",
      "2\n",
      "3Fizz\n",
      "4\n",
      "5Buzz\n",
      "6Fizz\n",
      "7\n",
      "8\n",
      "9Fizz\n",
      "10Buzz\n",
      "11\n",
      "12Fizz\n",
      "13\n",
      "14\n",
      "15FizzBuzz\n"
     ]
    }
   ],
   "source": [
    "fizz_buzz(15)"
   ]
  },
  {
   "cell_type": "markdown",
   "id": "a439760f-18c7-405b-bacb-6d397208f375",
   "metadata": {},
   "source": [
    "# Exercise 6"
   ]
  },
  {
   "cell_type": "code",
   "id": "b47ce3a9-c7da-4ed5-8d77-0ef48f5d51bb",
   "metadata": {
    "jupyter": {
     "is_executing": true
    }
   },
   "source": [
    "import matplotlib.pyplot as plt\n",
    "x = [x**3 for x in range(0, 100)]\n",
    "plt.figure()\n",
    "plt.plot(range(0,100), x, '.b')\n",
    "plt.show()"
   ],
   "outputs": [],
   "execution_count": null
  },
  {
   "cell_type": "markdown",
   "id": "16fcae70-bdce-4635-b836-a9a2dd3a11cd",
   "metadata": {},
   "source": [
    "# Exercise 7"
   ]
  },
  {
   "cell_type": "code",
   "execution_count": 172,
   "id": "970afe5f-a39d-4b1c-8e2c-89c3c7ff41c0",
   "metadata": {},
   "outputs": [
    {
     "name": "stdout",
     "output_type": "stream",
     "text": [
      "0\n",
      "1\n",
      "2\n",
      "3\n",
      "4\n",
      "5\n",
      "6\n"
     ]
    }
   ],
   "source": [
    "for i in range(7):print(i)"
   ]
  },
  {
   "cell_type": "code",
   "execution_count": 174,
   "id": "61c08402-4c9a-46ba-a97d-7d4a3405ffd2",
   "metadata": {},
   "outputs": [
    {
     "name": "stdout",
     "output_type": "stream",
     "text": [
      "6\n",
      "8\n",
      "10\n",
      "12\n",
      "14\n"
     ]
    }
   ],
   "source": [
    "for i in range(6,15,2):print(i)"
   ]
  },
  {
   "cell_type": "code",
   "id": "587ab22e-1175-42cc-b0a8-03cbfa28f3a1",
   "metadata": {
    "jupyter": {
     "is_executing": true
    }
   },
   "source": "for i in range(17,7,-3):print(i)",
   "outputs": [],
   "execution_count": null
  }
 ],
 "metadata": {
  "kernelspec": {
   "display_name": "Python 3 (ipykernel)",
   "language": "python",
   "name": "python3"
  },
  "language_info": {
   "codemirror_mode": {
    "name": "ipython",
    "version": 3
   },
   "file_extension": ".py",
   "mimetype": "text/x-python",
   "name": "python",
   "nbconvert_exporter": "python",
   "pygments_lexer": "ipython3",
   "version": "3.12.2"
  }
 },
 "nbformat": 4,
 "nbformat_minor": 5
}
