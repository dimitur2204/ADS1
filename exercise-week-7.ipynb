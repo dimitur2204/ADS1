{
 "cells": [
  {
   "cell_type": "markdown",
   "id": "a7596839-78a7-42fc-93fd-791882848606",
   "metadata": {},
   "source": [
    "**Exercise 7.2**\n",
    "\n",
    "Write a divide and conquer algorithm to find the maximum element in an (unsorted) array of integers.Analyze the time complexity of your algorithm, and compare with linear search."
   ]
  },
  {
   "cell_type": "code",
   "execution_count": 34,
   "id": "365dc83f-9d16-4d5c-89d5-13acf25b2718",
   "metadata": {},
   "outputs": [],
   "source": [
    "from math import floor\n",
    "# Divide the array until the array is of length 1, check if it's max\n",
    "def findMax(arr):\n",
    "    if len(arr) == 1:\n",
    "        return arr[0]\n",
    "    i = floor(len(arr)/2)\n",
    "    a = findMax(arr[i:])\n",
    "    b = findMax(arr[:i])\n",
    "    if a > b:\n",
    "        return a\n",
    "    return b\n"
   ]
  },
  {
   "cell_type": "markdown",
   "id": "ee3b566a-8af0-42da-a2bf-d36a58152176",
   "metadata": {},
   "source": [
    "findMax([1,2,3,3,100,3])"
   ]
  },
  {
   "cell_type": "markdown",
   "id": "4f0b1f85-34ee-4d57-a3d6-afa65b5e2cd3",
   "metadata": {},
   "source": [
    "**Exercise 7.4**\n",
    "\n",
    "Implement the backtracking algorithm for sudokusolving in python."
   ]
  },
  {
   "cell_type": "code",
   "execution_count": 165,
   "id": "7d7e1704-8a8e-4936-b76d-64741f7a9e8e",
   "metadata": {},
   "outputs": [],
   "source": [
    "def checkValid(sudoku, i, j, num):\n",
    "    row = sudoku[i]\n",
    "    for k in range(len(row)):\n",
    "        if j == k:\n",
    "            continue\n",
    "        if row[k] == num:\n",
    "            return False\n",
    "    for k in range(len(sudoku)):\n",
    "        if i == k:\n",
    "            continue\n",
    "        if sudoku[k][j] == num:\n",
    "            return False\n",
    "    sq_start_row = i\n",
    "    sq_start_col = j\n",
    "    while sq_start_row % 3 != 0 and sq_start_col % 3 != 0:\n",
    "        if sq_start_row % 3 != 0:\n",
    "            sq_start_row-=1\n",
    "        if sq_start_col % 3 != 0:\n",
    "            sq_start_col-=1\n",
    "    for k in range(3):\n",
    "        for m in range(3):\n",
    "            if k==j and m==i:\n",
    "                continue\n",
    "            if sudoku[sq_start_row + k][sq_start_col + m] == num:\n",
    "                return False\n",
    "    return True\n",
    "\n",
    "def isFull(sudoku):\n",
    "    for k in range(len(sudoku)):\n",
    "       for m in range(len(sudoku)):\n",
    "           if sudoku[k][m] == None:\n",
    "               return False\n",
    "    return True\n",
    "\n",
    "def solveSudoku(sudoku):\n",
    "    if isFull(sudoku):\n",
    "        return True\n",
    "    for i in range(len(sudoku)):\n",
    "        for j in range(len(sudoku)):\n",
    "            if sudoku[i][j] == None:\n",
    "                for n in range(9):\n",
    "                    num = n + 1\n",
    "                    sudoku[i][j] = num\n",
    "                    if checkValid(sudoku, i, j, num):\n",
    "                        return solveSudoku(sudoku)\n",
    "                    else:\n",
    "                        sudoku[i][j] = None\n",
    "    return False"
   ]
  }
 ],
 "metadata": {
  "kernelspec": {
   "display_name": "Python 3 (ipykernel)",
   "language": "python",
   "name": "python3"
  },
  "language_info": {
   "codemirror_mode": {
    "name": "ipython",
    "version": 3
   },
   "file_extension": ".py",
   "mimetype": "text/x-python",
   "name": "python",
   "nbconvert_exporter": "python",
   "pygments_lexer": "ipython3",
   "version": "3.12.2"
  }
 },
 "nbformat": 4,
 "nbformat_minor": 5
}
